{
 "cells": [
  {
   "cell_type": "code",
   "execution_count": 1,
   "metadata": {},
   "outputs": [],
   "source": [
    "import numpy as np\n",
    "import pandas as pd\n",
    "import pickle\n",
    "import utils\n",
    "from tqdm import tqdm, trange"
   ]
  },
  {
   "cell_type": "code",
   "execution_count": 2,
   "metadata": {},
   "outputs": [],
   "source": [
    "all_images = np.load('raw_data/all_images.npy')\n",
    "all_parametric = pd.read_csv('raw_data/parameter_subset.csv').values\n",
    "# descriptions_1 = pickle.load(open('descriptions_1.pkl', 'rb'))\n",
    "# descriptions_2 = pickle.load(open('descriptions_2.pkl', 'rb'))\n",
    "# descriptions_3 = pickle.load(open('descriptions_3.pkl', 'rb'))\n"
   ]
  },
  {
   "cell_type": "code",
   "execution_count": 3,
   "metadata": {},
   "outputs": [
    {
     "name": "stderr",
     "output_type": "stream",
     "text": [
      "100%|██████████| 11000/11000 [00:03<00:00, 3525.51it/s]\n"
     ]
    }
   ],
   "source": [
    "#resize iamges to 80x128\n",
    "from PIL import Image\n",
    "resized_images = []\n",
    "for i in trange(len(all_images)):\n",
    "    img = Image.fromarray(all_images[i])\n",
    "    img = img.resize((128, 80))\n",
    "    resized_images.append(np.array(img))\n",
    "resized_images = np.array(resized_images)"
   ]
  },
  {
   "cell_type": "code",
   "execution_count": 4,
   "metadata": {},
   "outputs": [],
   "source": [
    "all_images = resized_images"
   ]
  },
  {
   "cell_type": "code",
   "execution_count": 5,
   "metadata": {},
   "outputs": [
    {
     "name": "stderr",
     "output_type": "stream",
     "text": [
      "100%|██████████| 11000/11000 [00:44<00:00, 246.62it/s]\n"
     ]
    }
   ],
   "source": [
    "import sentence_generator\n",
    "all_parametric_df = pd.read_csv('raw_data/parameter_subset.csv')\n",
    "descriptions = []\n",
    "colors = sentence_generator.load_named_colors(\"colors.txt\")\n",
    "for idx in trange(11000):\n",
    "    desc = sentence_generator.generate_description(all_parametric_df.iloc[idx], colors)\n",
    "    descriptions.append(desc)"
   ]
  },
  {
   "cell_type": "code",
   "execution_count": 6,
   "metadata": {},
   "outputs": [],
   "source": [
    "all_images.shape\n",
    "#move the channell from the 3rd to 1st dim\n",
    "all_images = np.moveaxis(all_images, -1, 1)\n"
   ]
  },
  {
   "cell_type": "code",
   "execution_count": 7,
   "metadata": {},
   "outputs": [],
   "source": [
    "parametric_masked = utils.mask_array_with_nan(all_parametric, fraction=0.7)"
   ]
  },
  {
   "cell_type": "code",
   "execution_count": 8,
   "metadata": {},
   "outputs": [],
   "source": [
    "masked_images, masks = utils.apply_random_mask(all_images)"
   ]
  },
  {
   "cell_type": "code",
   "execution_count": 9,
   "metadata": {},
   "outputs": [],
   "source": [
    "from sklearn.model_selection import train_test_split\n",
    "train_indices, test_indices = train_test_split(np.arange(len(all_images)), test_size=1000, random_state=42)\n",
    "\n",
    "param_train = parametric_masked[train_indices]\n",
    "param_test = parametric_masked[test_indices]\n",
    "\n",
    "masked_train = masked_images[train_indices]\n",
    "masked_test = masked_images[test_indices]\n",
    "\n",
    "mask_train = masks[train_indices]\n",
    "mask_test = masks[test_indices]\n",
    "\n",
    "images_train = all_images[train_indices]\n",
    "images_test = all_images[test_indices]\n",
    "\n",
    "desc_train = [descriptions[i] for i in train_indices]\n",
    "desc_test = [descriptions[i] for i in test_indices]\n",
    "\n"
   ]
  },
  {
   "cell_type": "code",
   "execution_count": 10,
   "metadata": {},
   "outputs": [],
   "source": [
    "data_dir = \"data\"\n",
    "\n",
    "# np.save(f\"{data_dir}/param_train.npy\", param_train)\n",
    "# np.save(f\"{data_dir}/param_test.npy\", param_test)\n",
    "\n",
    "# for i in range(5):\n",
    "#     #split masked_train into 10\n",
    "#     np.save(f\"{data_dir}/masked_train_{i}.npy\", masked_train[i*2000:(i+1)*2000])\n",
    "# np.save(f\"{data_dir}/masked_test.npy\", masked_test)\n",
    "\n",
    "# for i in range(5):\n",
    "#     #split images into 10\n",
    "#     np.save(f\"{data_dir}/images_train_{i}.npy\", images_train[i*2000:(i+1)*2000])\n",
    "# np.save(f\"{data_dir}/images_test.npy\", images_test)\n",
    "\n",
    "# np.save(f\"{data_dir}/mask_train.npy\", mask_train)\n",
    "# np.save(f\"{data_dir}/mask_test.npy\", mask_test)\n",
    "\n",
    "pickle.dump(desc_train, open(f\"{data_dir}/desc_train.pkl\", 'wb'))\n",
    "pickle.dump(desc_test, open(f\"{data_dir}/desc_test.pkl\", 'wb'))\n",
    "\n"
   ]
  },
  {
   "cell_type": "code",
   "execution_count": 11,
   "metadata": {},
   "outputs": [
    {
     "name": "stdout",
     "output_type": "stream",
     "text": [
      "Nearest color name: greyblue\n"
     ]
    }
   ],
   "source": [
    "import numpy as np\n",
    "from scipy.spatial import distance\n",
    "\n",
    "def load_named_colors(file_path):\n",
    "    colors = {}\n",
    "    with open(file_path, 'r') as file:\n",
    "        for line in file:\n",
    "            name, hex_code = line.strip().split('\\t')\n",
    "            rgb = tuple(int(hex_code[i:i+2], 16) for i in (1, 3, 5))  # Convert hex to RGB\n",
    "            colors[name] = rgb\n",
    "    return colors\n",
    "\n",
    "def nearest_named_color(r, g, b, colors):\n",
    "    target_rgb = (r, g, b)\n",
    "    nearest_color = None\n",
    "    min_distance = float('inf')\n",
    "    \n",
    "    for name, rgb in colors.items():\n",
    "        dist = distance.euclidean(target_rgb, rgb)\n",
    "        if dist < min_distance:\n",
    "            min_distance = dist\n",
    "            nearest_color = name\n",
    "            \n",
    "    return nearest_color\n",
    "\n",
    "# Example usage\n",
    "colors = load_named_colors(\"colors.txt\")\n",
    "color_name = nearest_named_color(120, 150, 200, colors)\n",
    "print(\"Nearest color name:\", color_name)\n"
   ]
  },
  {
   "cell_type": "code",
   "execution_count": null,
   "metadata": {},
   "outputs": [],
   "source": []
  },
  {
   "cell_type": "code",
   "execution_count": null,
   "metadata": {},
   "outputs": [],
   "source": []
  }
 ],
 "metadata": {
  "kernelspec": {
   "display_name": "torch",
   "language": "python",
   "name": "python3"
  },
  "language_info": {
   "codemirror_mode": {
    "name": "ipython",
    "version": 3
   },
   "file_extension": ".py",
   "mimetype": "text/x-python",
   "name": "python",
   "nbconvert_exporter": "python",
   "pygments_lexer": "ipython3",
   "version": "3.12.7"
  }
 },
 "nbformat": 4,
 "nbformat_minor": 2
}
