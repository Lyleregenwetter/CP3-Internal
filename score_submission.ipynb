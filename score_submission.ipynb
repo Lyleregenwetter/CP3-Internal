{
 "cells": [
  {
   "cell_type": "code",
   "execution_count": 5,
   "metadata": {},
   "outputs": [],
   "source": [
    "from torchmetrics.image import StructuralSimilarityIndexMeasure\n",
    "import numpy as np\n",
    "import torch"
   ]
  },
  {
   "cell_type": "code",
   "execution_count": 6,
   "metadata": {},
   "outputs": [],
   "source": [
    "\n",
    "def compute_residual_images(img_set1, img_set2):\n",
    "    #convert to float   \n",
    "    img_set1 = img_set1.astype(np.float32)\n",
    "    img_set2 = img_set2.astype(np.float32)\n",
    "    # Ensure the shapes match\n",
    "    assert img_set1.shape == img_set2.shape, \"Image sets must have the same dimensions\"\n",
    "    \n",
    "    # Compute the residuals\n",
    "    residuals = np.abs(img_set1 - img_set2)\n",
    "    return residuals\n",
    "\n",
    "def calc_ssim_batched(img_set1, img_set2, batch_size=128):\n",
    "    # Initialize the SSIM metric\n",
    "    ssim = StructuralSimilarityIndexMeasure(data_range=255, reduction=\"none\")\n",
    "    \n",
    "    # Ensure input tensors are of float32 type\n",
    "    img_set1 = torch.tensor(img_set1, dtype=torch.float32)\n",
    "    img_set2 = torch.tensor(img_set2, dtype=torch.float32)\n",
    "\n",
    "    # Calculate SSIM in batches\n",
    "    ssim_vals = []\n",
    "    for i in range(0, len(img_set1), batch_size):\n",
    "        batch_img1 = img_set1[i:i + batch_size]\n",
    "        batch_img2 = img_set2[i:i + batch_size]\n",
    "        \n",
    "        # Compute SSIM for the batch and store the result\n",
    "        ssim_batch = ssim(batch_img1, batch_img2)\n",
    "        ssim_vals.append(ssim_batch.cpu().numpy())\n",
    "    # Concatenate all batch results into a single array\n",
    "    return np.concatenate(ssim_vals)\n",
    "def calculate_composite_score(img_set1, img_set2, alpha=10, batch_size=128):\n",
    "    ssim = calc_ssim_batched(img_set1, img_set2, batch_size=batch_size)\n",
    "    ssim_rescaled = (ssim + 1) / 2\n",
    "    residuals = compute_residual_images(img_set1, img_set2)\n",
    "    MAE = residuals/255\n",
    "    MAE = np.mean(MAE, axis=(1, 2, 3))\n",
    "    composite_score = (ssim_rescaled + alpha*(1-MAE))/(1+alpha)\n",
    "    return np.mean(composite_score), composite_score\n"
   ]
  },
  {
   "cell_type": "code",
   "execution_count": 9,
   "metadata": {},
   "outputs": [
    {
     "name": "stdout",
     "output_type": "stream",
     "text": [
      "0.80429745\n"
     ]
    }
   ],
   "source": [
    "submission = np.load(\"1739_7842_3460.npy\")\n",
    "score, _ = calculate_composite_score(submission, np.load('data/images_test.npy'))\n",
    "print(score)"
   ]
  },
  {
   "cell_type": "code",
   "execution_count": null,
   "metadata": {},
   "outputs": [],
   "source": []
  }
 ],
 "metadata": {
  "kernelspec": {
   "display_name": "pytorch_clip",
   "language": "python",
   "name": "python3"
  },
  "language_info": {
   "codemirror_mode": {
    "name": "ipython",
    "version": 3
   },
   "file_extension": ".py",
   "mimetype": "text/x-python",
   "name": "python",
   "nbconvert_exporter": "python",
   "pygments_lexer": "ipython3",
   "version": "3.10.13"
  }
 },
 "nbformat": 4,
 "nbformat_minor": 2
}
